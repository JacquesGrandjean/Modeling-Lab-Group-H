{
 "cells": [
  {
   "cell_type": "markdown",
   "id": "921c0c4f",
   "metadata": {},
   "source": [
    "PART B : Stoichometry and reaction balancing\n",
    "1: Reaction Balance Function\n",
    "    In this part, we will create a function that can balance a reaction equation and give the stoichometric coefficient for each molecule that balance the reaction."
   ]
  },
  {
   "cell_type": "code",
   "execution_count": null,
   "id": "5b24d38c",
   "metadata": {},
   "outputs": [
    {
     "name": "stdout",
     "output_type": "stream",
     "text": [
      "Coefficients: [2, 1, 2]\n"
     ]
    }
   ],
   "source": [
    "import re\n",
    "import numpy as np\n",
    "from scipy.linalg import null_space\n",
    "\n",
    "def parse_formula(formula):\n",
    "    # The objective of this function is to take a chemical formula\n",
    "    # and to transform it into a dictionary of elements and their \n",
    "    # atom counts\n",
    "    pattern = r'([A-Z][a-z]?)(\\d*)'\n",
    "    # pattern explanation: [A-Z] matches an uppercase letter and\n",
    "    # [a-z]? matches an optional lowercase letter, ex: \"H\" or \"He\"\n",
    "    # together they match an element symbol\n",
    "    # (\\d*) matches the number that follows the element \n",
    "    elements = re.findall(pattern, formula)\n",
    "    # elements will be a list of tuples (element, count) throught the\n",
    "    # findall function\n",
    "    counts = {}\n",
    "    for (element, count) in elements:\n",
    "        counts[element] = counts.get(element, 0) + int(count or 1)\n",
    "    #This part will count the number of atoms for each element, for \n",
    "    # each (element, count), count.get(element, 0) will return the stocked \n",
    "    # value, otherwise it is 0, int(count or 1) will convert count to integer,\n",
    "    # if count is empty, it will return 1\n",
    "    return counts\n",
    "\n",
    "def Balance_reaction(reactants, products):\n",
    "    # This function will balance a chemical reaction given the\n",
    "    # list of reactants and products, and return the stoichiometric\n",
    "    # coefficients for each molecule in the reaction\n",
    "    all_elements = set()\n",
    "    for formula in reactants + products:\n",
    "        all_elements.update(parse_formula(formula).keys())\n",
    "    all_elements = sorted(all_elements)\n",
    "    # This part will put all the elements of the reactants and products\n",
    "    # into a set to avoid duplicates and then we sort them\n",
    "    # Example: for H2 + O2 -> H2O, all_elements will be ['H', 'O']\n",
    "\n",
    "\n",
    "    n = len(all_elements)\n",
    "    m = len(reactants) + len(products)\n",
    "    matrix = np.zeros((n, m))\n",
    "    # This part build the matrix for the system of equations where:\n",
    "    # n is the number of unique elements\n",
    "    # m is the number of molecules (reactants + products)\n",
    "    # we initialize a nxm matrix of zeros\n",
    "\n",
    "    for i, element in enumerate(all_elements):\n",
    "        for j, formula in enumerate(reactants):\n",
    "            matrix[i, j] = parse_formula(formula).get(element, 0)\n",
    "        for j, formula in enumerate(products):\n",
    "            matrix[i, j + len(reactants)] = -parse_formula(formula).get(element, 0)\n",
    "    # This part will fill the matrix with the atom counts, \n",
    "    # for reactants we put positive counts and for products negative counts\n",
    "    # The final equation system will be Ax = 0, where A is the matrix and x is the\n",
    "    # stoichometric coefficients we want to find\n",
    "\n",
    "    # Use scipy's null_space to get a solution vector\n",
    "    ns = null_space(matrix)\n",
    "    if ns.size == 0:\n",
    "        raise ValueError(\"No solution found for balancing the reaction.\")\n",
    "    coeffs = ns[:, 0]\n",
    "    coeffs = coeffs / np.min(np.abs(coeffs[np.nonzero(coeffs)]))\n",
    "    coeffs = np.round(coeffs).astype(int)\n",
    "    return coeffs.tolist()\n",
    "    #EXPLANATION :\n",
    "\n",
    "# Example usage:\n",
    "reactants = [\"H2\", \"O2\"]\n",
    "products = [\"H2O\"]\n",
    "coefficients = Balance_reaction(reactants, products)\n",
    "print(\"Coefficients:\", coefficients)  \n",
    "# Output should be [2, 1, 2] for 2H2 + 1O2 -> 2H2O\n",
    "\n"
   ]
  },
  {
   "cell_type": "markdown",
   "id": "18b4a378",
   "metadata": {},
   "source": []
  },
  {
   "cell_type": "code",
   "execution_count": null,
   "id": "946c4489",
   "metadata": {},
   "outputs": [],
   "source": []
  }
 ],
 "metadata": {
  "kernelspec": {
   "display_name": "ModelingLab",
   "language": "python",
   "name": "python3"
  },
  "language_info": {
   "codemirror_mode": {
    "name": "ipython",
    "version": 3
   },
   "file_extension": ".py",
   "mimetype": "text/x-python",
   "name": "python",
   "nbconvert_exporter": "python",
   "pygments_lexer": "ipython3",
   "version": "3.12.0"
  }
 },
 "nbformat": 4,
 "nbformat_minor": 5
}
