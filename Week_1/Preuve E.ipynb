{
 "cells": [
  {
   "cell_type": "markdown",
   "id": "c404411c",
   "metadata": {},
   "source": [
    "# Proof : \n",
    "$$\n",
    "E = k_B T^2 \\left(\\dfrac{\\partial \\ln Q}{\\partial T}\\right)_{V,N}\n",
    "$$\n",
    "\n",
    "## 1) Definition in the canonical ensemble\n",
    "We have:\n",
    "$$\n",
    "Q(N,V,T)=\\sum_{\\nu} e^{-\\beta E_\\nu}, \\qquad \\beta=\\frac{1}{k_B T}\n",
    "$$\n",
    "\n",
    "## 2) Derived from $(\\beta)$\n",
    "Let's calculate $(\\partial_\\beta \\ln Q)$ with $(V,N)$ constant :\n",
    "$$\n",
    "\\frac{\\partial \\ln Q}{\\partial \\beta}\n",
    "= \\frac{1}{Q}\\sum_\\nu \\left(-E_\\nu\\right) e^{-\\beta E_\\nu}\n",
    "= -\\sum_\\nu E_\\nu \\frac{e^{-\\beta E_\\nu}}{Q}\n",
    "= -\\langle E\\rangle\n",
    "= -E \n",
    "$$\n",
    "Therefore:\n",
    "$$\n",
    "E = - \\left(\\frac{\\partial \\ln Q}{\\partial \\beta}\\right)_{V,N}.\n",
    "$$\n",
    "\n",
    "## 3) Chaining $(\\beta \\leftrightarrow T)$\n",
    "Since $(\\beta = 1/(k_B T))$, we have:\n",
    "$$\n",
    "\\frac{d\\beta}{dT} = -\\frac{1}{k_B T^2}.\n",
    "$$\n",
    "By the chain rule,\n",
    "$$\n",
    "\\left(\\frac{\\partial \\ln Q}{\\partial T}\\right)_{V,N}\n",
    "= \\left(\\frac{\\partial \\ln Q}{\\partial \\beta}\\right)_{V,N}\\,\n",
    "\\frac{d\\beta}{dT}\n",
    "= (-E)\\left(-\\frac{1}{k_B T^2}\\right)\n",
    "= \\frac{E}{k_B T^2}.\n",
    "$$\n",
    "\n",
    "## 4) Result\n",
    "We do obtain:\n",
    "$$\n",
    "\\boxed{\\,E = k_B T^2 \\left(\\frac{\\partial \\ln Q}{\\partial T}\\right)_{V,N}\\, }.\n",
    "$$\n"
   ]
  }
 ],
 "metadata": {
  "language_info": {
   "name": "python"
  }
 },
 "nbformat": 4,
 "nbformat_minor": 5
}
